{
 "cells": [
  {
   "cell_type": "code",
   "execution_count": 2,
   "metadata": {
    "id": "MlomygEH9iua"
   },
   "outputs": [],
   "source": [
    "import numpy as np;\n",
    "import pandas as pd;\n",
    "from matplotlib import pyplot as plt"
   ]
  },
  {
   "cell_type": "code",
   "execution_count": 3,
   "metadata": {
    "id": "5ttzLSNT9stI"
   },
   "outputs": [],
   "source": [
    "data = pd.read_csv('input/train.csv')"
   ]
  },
  {
   "cell_type": "code",
   "execution_count": 4,
   "metadata": {
    "colab": {
     "base_uri": "https://localhost:8080/",
     "height": 256
    },
    "id": "E0xzSEov-3wI",
    "outputId": "6f332366-0286-45d7-fd2c-62cc9249dc2a"
   },
   "outputs": [
    {
     "data": {
      "text/html": [
       "<div>\n",
       "<style scoped>\n",
       "    .dataframe tbody tr th:only-of-type {\n",
       "        vertical-align: middle;\n",
       "    }\n",
       "\n",
       "    .dataframe tbody tr th {\n",
       "        vertical-align: top;\n",
       "    }\n",
       "\n",
       "    .dataframe thead th {\n",
       "        text-align: right;\n",
       "    }\n",
       "</style>\n",
       "<table border=\"1\" class=\"dataframe\">\n",
       "  <thead>\n",
       "    <tr style=\"text-align: right;\">\n",
       "      <th></th>\n",
       "      <th>label</th>\n",
       "      <th>pixel0</th>\n",
       "      <th>pixel1</th>\n",
       "      <th>pixel2</th>\n",
       "      <th>pixel3</th>\n",
       "      <th>pixel4</th>\n",
       "      <th>pixel5</th>\n",
       "      <th>pixel6</th>\n",
       "      <th>pixel7</th>\n",
       "      <th>pixel8</th>\n",
       "      <th>...</th>\n",
       "      <th>pixel774</th>\n",
       "      <th>pixel775</th>\n",
       "      <th>pixel776</th>\n",
       "      <th>pixel777</th>\n",
       "      <th>pixel778</th>\n",
       "      <th>pixel779</th>\n",
       "      <th>pixel780</th>\n",
       "      <th>pixel781</th>\n",
       "      <th>pixel782</th>\n",
       "      <th>pixel783</th>\n",
       "    </tr>\n",
       "  </thead>\n",
       "  <tbody>\n",
       "    <tr>\n",
       "      <th>0</th>\n",
       "      <td>1</td>\n",
       "      <td>0</td>\n",
       "      <td>0</td>\n",
       "      <td>0</td>\n",
       "      <td>0</td>\n",
       "      <td>0</td>\n",
       "      <td>0</td>\n",
       "      <td>0</td>\n",
       "      <td>0</td>\n",
       "      <td>0</td>\n",
       "      <td>...</td>\n",
       "      <td>0</td>\n",
       "      <td>0</td>\n",
       "      <td>0</td>\n",
       "      <td>0</td>\n",
       "      <td>0</td>\n",
       "      <td>0</td>\n",
       "      <td>0</td>\n",
       "      <td>0</td>\n",
       "      <td>0</td>\n",
       "      <td>0</td>\n",
       "    </tr>\n",
       "    <tr>\n",
       "      <th>1</th>\n",
       "      <td>0</td>\n",
       "      <td>0</td>\n",
       "      <td>0</td>\n",
       "      <td>0</td>\n",
       "      <td>0</td>\n",
       "      <td>0</td>\n",
       "      <td>0</td>\n",
       "      <td>0</td>\n",
       "      <td>0</td>\n",
       "      <td>0</td>\n",
       "      <td>...</td>\n",
       "      <td>0</td>\n",
       "      <td>0</td>\n",
       "      <td>0</td>\n",
       "      <td>0</td>\n",
       "      <td>0</td>\n",
       "      <td>0</td>\n",
       "      <td>0</td>\n",
       "      <td>0</td>\n",
       "      <td>0</td>\n",
       "      <td>0</td>\n",
       "    </tr>\n",
       "    <tr>\n",
       "      <th>2</th>\n",
       "      <td>1</td>\n",
       "      <td>0</td>\n",
       "      <td>0</td>\n",
       "      <td>0</td>\n",
       "      <td>0</td>\n",
       "      <td>0</td>\n",
       "      <td>0</td>\n",
       "      <td>0</td>\n",
       "      <td>0</td>\n",
       "      <td>0</td>\n",
       "      <td>...</td>\n",
       "      <td>0</td>\n",
       "      <td>0</td>\n",
       "      <td>0</td>\n",
       "      <td>0</td>\n",
       "      <td>0</td>\n",
       "      <td>0</td>\n",
       "      <td>0</td>\n",
       "      <td>0</td>\n",
       "      <td>0</td>\n",
       "      <td>0</td>\n",
       "    </tr>\n",
       "    <tr>\n",
       "      <th>3</th>\n",
       "      <td>4</td>\n",
       "      <td>0</td>\n",
       "      <td>0</td>\n",
       "      <td>0</td>\n",
       "      <td>0</td>\n",
       "      <td>0</td>\n",
       "      <td>0</td>\n",
       "      <td>0</td>\n",
       "      <td>0</td>\n",
       "      <td>0</td>\n",
       "      <td>...</td>\n",
       "      <td>0</td>\n",
       "      <td>0</td>\n",
       "      <td>0</td>\n",
       "      <td>0</td>\n",
       "      <td>0</td>\n",
       "      <td>0</td>\n",
       "      <td>0</td>\n",
       "      <td>0</td>\n",
       "      <td>0</td>\n",
       "      <td>0</td>\n",
       "    </tr>\n",
       "    <tr>\n",
       "      <th>4</th>\n",
       "      <td>0</td>\n",
       "      <td>0</td>\n",
       "      <td>0</td>\n",
       "      <td>0</td>\n",
       "      <td>0</td>\n",
       "      <td>0</td>\n",
       "      <td>0</td>\n",
       "      <td>0</td>\n",
       "      <td>0</td>\n",
       "      <td>0</td>\n",
       "      <td>...</td>\n",
       "      <td>0</td>\n",
       "      <td>0</td>\n",
       "      <td>0</td>\n",
       "      <td>0</td>\n",
       "      <td>0</td>\n",
       "      <td>0</td>\n",
       "      <td>0</td>\n",
       "      <td>0</td>\n",
       "      <td>0</td>\n",
       "      <td>0</td>\n",
       "    </tr>\n",
       "  </tbody>\n",
       "</table>\n",
       "<p>5 rows × 785 columns</p>\n",
       "</div>"
      ],
      "text/plain": [
       "   label  pixel0  pixel1  pixel2  pixel3  pixel4  pixel5  pixel6  pixel7  \\\n",
       "0      1       0       0       0       0       0       0       0       0   \n",
       "1      0       0       0       0       0       0       0       0       0   \n",
       "2      1       0       0       0       0       0       0       0       0   \n",
       "3      4       0       0       0       0       0       0       0       0   \n",
       "4      0       0       0       0       0       0       0       0       0   \n",
       "\n",
       "   pixel8  ...  pixel774  pixel775  pixel776  pixel777  pixel778  pixel779  \\\n",
       "0       0  ...         0         0         0         0         0         0   \n",
       "1       0  ...         0         0         0         0         0         0   \n",
       "2       0  ...         0         0         0         0         0         0   \n",
       "3       0  ...         0         0         0         0         0         0   \n",
       "4       0  ...         0         0         0         0         0         0   \n",
       "\n",
       "   pixel780  pixel781  pixel782  pixel783  \n",
       "0         0         0         0         0  \n",
       "1         0         0         0         0  \n",
       "2         0         0         0         0  \n",
       "3         0         0         0         0  \n",
       "4         0         0         0         0  \n",
       "\n",
       "[5 rows x 785 columns]"
      ]
     },
     "execution_count": 4,
     "metadata": {},
     "output_type": "execute_result"
    }
   ],
   "source": [
    "data.head()"
   ]
  },
  {
   "cell_type": "code",
   "execution_count": 5,
   "metadata": {
    "id": "oHnQd8BX-78G"
   },
   "outputs": [],
   "source": [
    "data = np.array(data)"
   ]
  },
  {
   "cell_type": "code",
   "execution_count": 6,
   "metadata": {
    "id": "htxkdXD7_AJm"
   },
   "outputs": [],
   "source": [
    "m,n  = data.shape\n",
    "np.random.shuffle(data)\n",
    "data_dev = data[0:1000].T\n",
    "Y_dev = data_dev[0]\n",
    "X_dev = data_dev[1:n]\n",
    "X_dev = X_dev / 255.\n",
    "data_train = data[1000:m].T\n",
    "Y_train = data_train[0]\n",
    "X_train = data_train[1:n]\n",
    "X_train = X_train / 255.\n",
    "_,m_train = X_train.shape"
   ]
  },
  {
   "cell_type": "code",
   "execution_count": 7,
   "metadata": {
    "id": "462RZt3MALs7"
   },
   "outputs": [],
   "source": [
    "def init_params():\n",
    "  W1 = np.random.rand(10,784) - 0.5\n",
    "  b1 = np.random.rand(10,1) - 0.5\n",
    "  W2 = np.random.rand(10,10) - 0.5\n",
    "  b2 = np.random.rand(10,1) - 0.5\n",
    "  return W1,b1,W2,b2"
   ]
  },
  {
   "cell_type": "code",
   "execution_count": 8,
   "metadata": {
    "id": "uqS0V5CHBGdC"
   },
   "outputs": [],
   "source": [
    "def RelU(Z):\n",
    "  return np.maximum(0,Z);"
   ]
  },
  {
   "cell_type": "code",
   "execution_count": 9,
   "metadata": {
    "id": "2SzkYitxBdo4"
   },
   "outputs": [],
   "source": [
    "def softmax(Z):\n",
    "  A = np.exp(Z) / sum(np.exp(Z))\n",
    "  return A"
   ]
  },
  {
   "cell_type": "code",
   "execution_count": 10,
   "metadata": {
    "id": "n2AZ6gcHA1o5"
   },
   "outputs": [],
   "source": [
    "def forward_prop(W1,b1,W2,b2,X):\n",
    "  Z1=W1.dot(X) + b1\n",
    "  A1=RelU(Z1)\n",
    "  Z2= W2.dot(A1) + b2\n",
    "  A2=softmax(Z2)\n",
    "  return Z1, A1, Z2, A2"
   ]
  },
  {
   "cell_type": "code",
   "execution_count": 11,
   "metadata": {
    "id": "K8q5njYnCI-R"
   },
   "outputs": [],
   "source": [
    "def one_hot(Y):\n",
    "  one_hot_Y = np.zeros((Y.size, Y.max() + 1))\n",
    "  one_hot_Y[np.arange(Y.size), Y] = 1\n",
    "  one_hot_Y = one_hot_Y.T\n",
    "  return one_hot_Y"
   ]
  },
  {
   "cell_type": "code",
   "execution_count": 12,
   "metadata": {
    "id": "I9EU1Uf9D1ix"
   },
   "outputs": [],
   "source": [
    "def derivative_RelU(Z):\n",
    "  return Z > 0 # slope is 1 for Z>0, and 0 for negative Z"
   ]
  },
  {
   "cell_type": "code",
   "execution_count": 13,
   "metadata": {
    "id": "dVLcbh26A1tY"
   },
   "outputs": [],
   "source": [
    "def back_prop(Z1, A1, Z2, A2, W1, W2, X, Y):\n",
    "  one_hot_Y = one_hot(Y)\n",
    "  dZ2 = A2 - one_hot_Y\n",
    "  dW2 = 1 / m * dZ2.dot(A1.T)\n",
    "  db2 = 1 / m * np.sum(dZ2)\n",
    "  dZ1 = W2.T.dot(dZ2) * derivative_RelU(Z1)\n",
    "  dW1 = 1 / m * dZ1.dot(X.T)\n",
    "  db1 = 1 / m * np.sum(dZ1)\n",
    "  return dW1, db1, dW2, db2"
   ]
  },
  {
   "cell_type": "code",
   "execution_count": 14,
   "metadata": {
    "id": "dOoU8tM8Eimg"
   },
   "outputs": [],
   "source": [
    "def update_params(W1,b1,W2,b2, dW1, db1, dW2, db2, alpha):\n",
    "  W1= W1 -alpha * dW1;\n",
    "  b1= b1 -alpha * db1;\n",
    "  W2= W2 -alpha * dW2;\n",
    "  b2= b2 -alpha * db2;\n",
    "  return W1,b1, W2,b2 "
   ]
  },
  {
   "cell_type": "code",
   "execution_count": 15,
   "metadata": {
    "id": "2v7b6pALF5_A"
   },
   "outputs": [],
   "source": [
    "def get_predictions(A2):\n",
    "  return np.argmax(A2,0);"
   ]
  },
  {
   "cell_type": "code",
   "execution_count": 16,
   "metadata": {
    "id": "E5TNxR-iF_WU"
   },
   "outputs": [],
   "source": [
    "def get_accuracy(predictions,Y):\n",
    "  print(predictions,Y)\n",
    "  return np.sum(predictions == Y) / Y.size"
   ]
  },
  {
   "cell_type": "code",
   "execution_count": 17,
   "metadata": {
    "id": "aUF9iP12FAP4"
   },
   "outputs": [],
   "source": [
    "def gradient_descent(X,Y, iterations,alpha):\n",
    "  W1,b1,W2,b2 = init_params()\n",
    "  for i in range(iterations):\n",
    "    Z1,A1,Z2,A2 = forward_prop(W1,b1,W2,b2,X)\n",
    "    dW1,db1,dW2,db2 = back_prop(Z1, A1, Z2, A2, W1, W2, X, Y)\n",
    "    W1,b1,W2,b2 = update_params(W1,b1,W2,b2,dW1,db1,dW2,db2,alpha)\n",
    "    if(i%50 == 0):\n",
    "      print(\"Iteration:\", i)\n",
    "      print(\"Accuracy: \", get_accuracy(get_predictions(A2),Y))\n",
    "  return W1,b1,W2,b2;"
   ]
  },
  {
   "cell_type": "code",
   "execution_count": null,
   "metadata": {
    "colab": {
     "base_uri": "https://localhost:8080/"
    },
    "id": "-rFDb6B8GUQv",
    "outputId": "2572a87d-09c6-42c6-c0cf-75bb7376e55a"
   },
   "outputs": [],
   "source": [
    "W1,b1,W2,b2 = gradient_descent(X_train,Y_train, 500, 0.1)"
   ]
  },
  {
   "cell_type": "markdown",
   "metadata": {},
   "source": [
    "visualize predictions"
   ]
  },
  {
   "cell_type": "code",
   "execution_count": 19,
   "metadata": {},
   "outputs": [],
   "source": [
    "def make_predictions(X, W1, b1, W2, b2):\n",
    "    _, _, _, A2 = forward_prop(W1, b1, W2, b2, X)\n",
    "    predictions = get_predictions(A2)\n",
    "    return predictions\n",
    "\n",
    "def test_prediction(index, W1, b1, W2, b2):\n",
    "    current_image = X_train[:, index, None]\n",
    "    prediction = make_predictions(X_train[:, index, None], W1, b1, W2, b2)\n",
    "    label = Y_train[index]\n",
    "    print(\"Prediction: \", prediction)\n",
    "    print(\"Label: \", label)\n",
    "    \n",
    "    current_image = current_image.reshape((28, 28)) * 255\n",
    "    plt.gray()\n",
    "    plt.imshow(current_image, interpolation='nearest')\n",
    "    plt.show()"
   ]
  },
  {
   "cell_type": "code",
   "execution_count": 20,
   "metadata": {},
   "outputs": [
    {
     "name": "stdout",
     "output_type": "stream",
     "text": [
      "Prediction:  [3]\n",
      "Label:  9\n"
     ]
    },
    {
     "data": {
      "image/png": "[encoded data removed]",
      "text/plain": [
       "<Figure size 640x480 with 1 Axes>"
      ]
     },
     "metadata": {},
     "output_type": "display_data"
    },
    {
     "name": "stdout",
     "output_type": "stream",
     "text": [
      "Prediction:  [2]\n",
      "Label:  2\n"
     ]
    },
    {
     "data": {
      "image/png": "[encoded data removed]",
      "text/plain": [
       "<Figure size 640x480 with 1 Axes>"
      ]
     },
     "metadata": {},
     "output_type": "display_data"
    },
    {
     "name": "stdout",
     "output_type": "stream",
     "text": [
      "Prediction:  [0]\n",
      "Label:  0\n"
     ]
    },
    {
     "data": {
      "image/png": "[encoded data removed]",
      "text/plain": [
       "<Figure size 640x480 with 1 Axes>"
      ]
     },
     "metadata": {},
     "output_type": "display_data"
    },
    {
     "name": "stdout",
     "output_type": "stream",
     "text": [
      "Prediction:  [2]\n",
      "Label:  2\n"
     ]
    },
    {
     "data": {
      "image/png": "[encoded data removed]",
      "text/plain": [
       "<Figure size 640x480 with 1 Axes>"
      ]
     },
     "metadata": {},
     "output_type": "display_data"
    }
   ],
   "source": [
    "#vizualise image and prediction\n",
    "test_prediction(0, W1, b1, W2, b2)\n",
    "test_prediction(1, W1, b1, W2, b2)\n",
    "test_prediction(2, W1, b1, W2, b2)\n",
    "test_prediction(3, W1, b1, W2, b2)"
   ]
  },
  {
   "cell_type": "code",
   "execution_count": 21,
   "metadata": {},
   "outputs": [
    {
     "name": "stdout",
     "output_type": "stream",
     "text": [
      "[4 3 8 0 2 9 4 4 6 9 7 0 2 7 3 1 3 9 5 0 3 1 9 8 2 0 9 3 0 6 2 4 5 9 8 6 4\n",
      " 7 9 7 5 6 2 5 4 7 6 5 4 2 2 9 9 9 4 6 8 6 0 7 9 6 5 4 9 9 5 8 8 9 9 1 9 3\n",
      " 9 1 9 2 8 8 1 4 6 1 7 5 1 8 7 4 8 8 3 1 7 6 6 5 7 4 2 9 1 0 1 6 1 2 0 9 6\n",
      " 0 0 2 6 1 3 4 5 0 0 0 9 3 3 6 4 8 2 5 9 2 1 7 0 3 6 4 8 6 1 7 9 9 8 4 9 1\n",
      " 8 0 3 1 6 3 7 8 4 1 1 7 0 2 7 7 3 7 0 2 0 5 0 1 6 7 3 9 7 7 7 5 1 1 4 7 6\n",
      " 4 3 8 4 4 9 4 9 1 3 6 8 7 0 1 0 8 8 0 4 3 6 6 6 1 0 7 1 9 9 2 7 8 7 6 9 7\n",
      " 1 0 4 6 4 4 3 8 5 9 0 2 6 6 7 5 2 3 9 5 1 5 5 4 3 7 4 7 7 2 9 4 0 9 5 7 1\n",
      " 1 1 0 4 3 6 1 9 2 6 1 4 3 2 1 2 0 2 5 7 5 3 2 9 4 6 7 7 1 1 7 9 0 4 7 1 3\n",
      " 3 7 4 9 8 6 9 4 5 6 3 1 9 3 4 9 3 2 7 1 0 8 6 3 0 1 0 4 3 0 4 9 0 3 7 9 9\n",
      " 6 7 7 7 7 6 0 0 3 4 3 0 3 2 1 7 0 2 9 0 2 6 4 4 4 4 8 5 1 7 7 0 4 6 7 8 4\n",
      " 6 5 3 4 0 6 0 6 4 3 5 5 6 0 7 2 6 0 0 5 4 1 8 6 7 8 6 1 4 2 0 3 1 1 9 1 8\n",
      " 1 6 8 2 9 8 8 6 8 3 9 8 0 4 7 7 8 5 7 3 6 0 5 4 7 7 7 2 9 0 0 4 7 6 4 9 9\n",
      " 0 9 1 3 1 4 4 6 4 6 5 7 3 7 8 1 5 4 2 8 1 1 1 4 1 9 4 4 6 9 3 0 9 0 0 6 4\n",
      " 7 6 0 1 3 2 8 2 7 2 4 3 6 5 2 1 7 9 3 9 2 0 8 0 2 6 0 5 8 3 5 0 0 2 6 3 3\n",
      " 0 7 7 4 3 1 9 5 1 4 3 2 6 0 8 3 0 6 2 4 7 6 9 4 2 1 6 6 4 6 3 9 0 3 1 7 2\n",
      " 9 6 0 8 5 8 3 9 8 4 4 7 9 9 5 5 1 9 8 6 8 5 2 3 0 6 1 3 7 4 5 2 3 9 2 5 1\n",
      " 6 8 2 8 9 5 9 3 7 0 8 7 5 9 6 8 0 3 9 5 9 6 8 9 5 9 7 5 9 7 0 7 3 6 1 5 9\n",
      " 1 8 6 4 3 4 3 5 7 8 4 4 3 6 6 9 5 5 3 0 6 6 4 8 5 9 4 7 4 3 9 6 4 1 1 1 9\n",
      " 6 6 3 1 8 1 0 0 7 7 6 6 1 0 3 6 9 3 4 3 9 4 5 3 5 5 0 3 0 3 1 9 2 6 0 0 6\n",
      " 1 9 9 3 9 3 2 2 2 2 9 3 9 0 2 4 8 5 3 4 0 1 9 4 3 4 9 7 0 8 6 7 2 4 0 9 3\n",
      " 5 4 6 3 7 5 9 7 6 8 2 2 2 3 3 8 1 5 1 8 2 4 5 8 5 0 6 9 0 5 6 5 9 5 8 7 1\n",
      " 4 1 6 5 0 4 0 3 9 3 5 0 4 5 6 1 7 3 5 6 2 2 7 0 2 4 8 7 0 7 4 4 8 3 9 7 0\n",
      " 9 3 2 0 0 0 8 9 0 2 2 6 3 3 3 2 7 3 5 0 2 9 1 8 7 4 8 7 8 5 5 4 0 1 3 9 8\n",
      " 8 0 1 4 1 6 7 2 6 4 9 0 2 4 8 2 5 2 0 6 1 6 3 9 3 2 7 7 6 5 8 8 2 6 6 9 4\n",
      " 9 8 1 7 3 5 0 8 5 7 2 7 9 7 2 3 1 1 1 7 4 8 9 4 1 9 8 2 6 4 7 9 6 5 2 0 2\n",
      " 1 7 4 9 8 1 3 7 7 5 8 5 9 7 1 2 7 4 5 1 4 0 2 3 7 5 5 9 7 6 0 9 2 9 1 1 8\n",
      " 5 8 7 8 0 9 8 8 8 0 3 8 9 3 9 4 6 5 9 0 7 5 5 5 1 4 6 2 3 0 5 3 9 5 9 2 1\n",
      " 3] [4 3 8 0 2 9 4 9 0 9 7 0 2 7 2 1 3 9 5 0 3 1 9 8 2 0 9 3 0 6 5 7 5 9 8 6 4\n",
      " 7 5 7 5 6 2 5 4 7 6 5 4 2 2 8 4 9 4 6 8 5 0 7 7 6 5 4 8 5 9 8 8 9 9 1 9 9\n",
      " 7 1 9 2 8 8 1 2 6 5 7 5 1 8 7 4 8 8 3 1 7 6 6 5 7 4 2 7 1 0 1 6 1 6 0 9 6\n",
      " 0 0 2 6 1 3 9 5 0 0 0 3 3 3 6 4 5 2 5 9 2 1 7 0 3 6 4 8 6 1 7 9 9 8 4 9 1\n",
      " 2 0 3 1 6 5 7 8 2 1 1 7 0 2 7 7 3 7 0 2 0 5 0 1 6 7 1 9 9 7 7 5 1 1 6 7 6\n",
      " 4 3 8 4 4 9 4 4 1 3 2 9 7 8 1 0 8 8 0 4 8 6 6 6 1 0 7 1 5 9 0 7 8 9 6 8 7\n",
      " 1 0 4 6 4 4 3 8 3 9 0 2 6 6 7 5 8 3 9 5 1 5 5 4 0 7 4 7 7 2 9 4 0 8 5 2 1\n",
      " 1 1 0 4 3 6 1 9 4 6 8 4 3 2 1 2 0 2 8 7 5 3 6 9 4 6 7 9 1 1 7 9 0 4 7 1 3\n",
      " 2 7 4 4 5 3 3 5 3 6 3 1 9 5 4 8 3 2 3 1 0 8 6 5 0 6 0 4 3 0 4 8 0 3 5 9 9\n",
      " 6 5 7 7 7 6 0 0 3 4 3 0 3 2 7 7 0 2 4 0 2 0 4 4 8 4 8 5 1 7 9 0 4 6 7 8 4\n",
      " 6 5 3 2 0 6 0 6 4 5 5 5 6 0 7 2 6 0 0 8 1 1 5 0 7 8 6 1 4 2 0 3 1 1 9 1 8\n",
      " 1 6 8 2 3 8 1 6 8 3 9 3 0 4 7 7 8 5 7 3 6 0 5 4 7 7 7 2 9 0 0 4 7 6 4 9 9\n",
      " 0 7 1 3 1 4 5 6 9 6 5 7 3 7 8 1 5 4 2 8 1 1 1 4 1 8 4 4 6 9 3 0 9 0 0 5 4\n",
      " 7 6 0 8 3 2 8 2 7 2 9 3 6 5 2 1 7 9 3 9 2 0 8 0 2 6 0 5 8 3 5 0 0 3 6 1 8\n",
      " 0 7 7 4 3 1 8 5 1 4 3 2 6 0 8 3 0 6 2 4 7 6 9 4 2 1 6 6 4 6 3 9 0 3 1 9 2\n",
      " 9 6 0 8 3 8 3 9 8 4 4 7 9 7 5 5 1 9 8 6 8 5 2 3 0 6 1 3 7 4 5 2 2 9 2 5 1\n",
      " 6 8 2 8 9 5 9 3 7 0 8 7 5 9 6 2 0 8 9 5 3 6 8 7 7 9 7 5 9 7 0 7 3 6 1 3 9\n",
      " 1 8 4 4 3 4 3 5 7 8 4 4 3 6 6 9 3 5 3 0 6 6 4 8 5 9 2 7 2 3 9 2 4 1 1 1 4\n",
      " 6 6 3 1 8 1 0 0 7 7 3 6 1 0 3 2 9 3 4 3 9 5 5 3 8 7 0 3 5 3 1 9 2 6 0 0 6\n",
      " 1 7 9 3 8 3 2 2 2 2 9 7 9 0 2 4 8 5 3 0 0 1 9 4 3 4 9 7 0 8 6 7 2 4 0 9 1\n",
      " 5 4 6 3 7 5 9 9 6 8 2 2 2 2 8 9 1 3 1 8 8 4 5 8 3 5 6 9 0 3 4 5 8 9 8 7 1\n",
      " 4 1 6 5 0 4 5 3 4 3 5 0 4 5 4 1 7 3 5 6 6 2 7 5 2 4 5 7 0 7 4 4 8 3 9 7 0\n",
      " 9 3 2 0 0 0 9 9 0 2 2 6 3 3 3 2 7 3 8 0 2 9 1 8 7 4 8 9 8 5 5 4 0 8 3 9 8\n",
      " 8 0 1 5 1 6 7 3 6 4 4 0 7 2 8 2 5 2 0 6 1 6 3 9 3 2 7 7 6 5 8 8 2 6 5 9 4\n",
      " 9 9 1 7 3 5 0 8 5 7 2 9 9 7 2 3 1 1 1 7 4 8 9 4 1 7 8 2 6 9 2 9 2 9 2 0 6\n",
      " 1 7 4 9 8 6 3 7 7 5 8 5 9 7 1 2 9 4 5 1 4 0 2 3 7 5 5 9 7 3 0 9 2 3 1 1 8\n",
      " 0 8 7 4 3 9 8 8 9 0 3 8 4 3 9 4 6 5 9 0 7 5 5 5 1 4 6 2 3 0 5 3 9 5 9 2 1\n",
      " 3]\n"
     ]
    },
    {
     "data": {
      "text/plain": [
       "0.841"
      ]
     },
     "execution_count": 21,
     "metadata": {},
     "output_type": "execute_result"
    }
   ],
   "source": [
    "#test for not training data\n",
    "dev_predictions = make_predictions(X_dev, W1, b1, W2, b2)\n",
    "get_accuracy(dev_predictions, Y_dev)\n",
    "\n"
   ]
  },
  {
   "cell_type": "code",
   "execution_count": null,
   "metadata": {},
   "outputs": [],
   "source": []
  }
 ],
 "metadata": {
  "accelerator": "GPU",
  "colab": {
   "provenance": []
  },
  "gpuClass": "standard",
  "kernelspec": {
   "display_name": "Python 3 (ipykernel)",
   "language": "python",
   "name": "python3"
  },
  "language_info": {
   "codemirror_mode": {
    "name": "ipython",
    "version": 3
   },
   "file_extension": ".py",
   "mimetype": "text/x-python",
   "name": "python",
   "nbconvert_exporter": "python",
   "pygments_lexer": "ipython3",
   "version": "3.10.9"
  }
 },
 "nbformat": 4,
 "nbformat_minor": 1
}

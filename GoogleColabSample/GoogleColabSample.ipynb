{
  "cells": [
    {
      "cell_type": "code",
      "execution_count": 1,
      "metadata": {
        "colab": {
          "base_uri": "https://localhost:8080/"
        },
        "id": "FeRsjUBPCnoU",
        "outputId": "d999b12c-d096-4c90-f3fe-1781d7ce6014"
      },
      "outputs": [
        {
          "name": "stdout",
          "output_type": "stream",
          "text": [
            "hello\n"
          ]
        }
      ],
      "source": [
        "print(\"hello\")"
      ]
    },
    {
      "cell_type": "code",
      "execution_count": null,
      "metadata": {
        "colab": {
          "base_uri": "https://localhost:8080/"
        },
        "id": "4fu9FepIdfqk",
        "outputId": "0f488bd0-e409-4cca-91a2-909c9be91135"
      },
      "outputs": [],
      "source": [
        "from google.colab import drive\n",
        "drive.mount('/content/drive/')"
      ]
    },
    {
      "cell_type": "code",
      "execution_count": 4,
      "metadata": {
        "id": "MZPX58k1d29H"
      },
      "outputs": [],
      "source": [
        "!ls \"/content/drive/My Drive/GoogleColab\""
      ]
    },
    {
      "cell_type": "code",
      "execution_count": 5,
      "metadata": {
        "id": "F2hMOQ1feIKz"
      },
      "outputs": [],
      "source": [
        "!pip install -q keras"
      ]
    },
    {
      "cell_type": "code",
      "execution_count": null,
      "metadata": {
        "colab": {
          "base_uri": "https://localhost:8080/"
        },
        "id": "dc5Xf_--elpN",
        "outputId": "eaf8124d-334e-494f-ea36-68011924674c"
      },
      "outputs": [],
      "source": [
        "!python3 \"/content/drive/My Drive/GoogleColab/mnist_cnn.py\""
      ]
    },
    {
      "cell_type": "code",
      "execution_count": null,
      "metadata": {
        "colab": {
          "base_uri": "https://localhost:8080/"
        },
        "id": "i05dx2exfHH5",
        "outputId": "fe207b7a-f6c4-469d-f53f-cc37f291a45a"
      },
      "outputs": [],
      "source": [
        "!wget https://raw.githubusercontent.com/vincentarelbundock/Rdatasets/master/csv/datasets/Titanic.csv -P \"/content/drive/My Drive/GoogleColab\""
      ]
    },
    {
      "cell_type": "code",
      "execution_count": null,
      "metadata": {
        "colab": {
          "base_uri": "https://localhost:8080/",
          "height": 206
        },
        "id": "-pY2s0hffNr6",
        "outputId": "5e7e7703-a275-4051-b7d0-7b229b3be32b"
      },
      "outputs": [],
      "source": [
        "import pandas as pd\n",
        "titanic = pd.read_csv(\"/content/drive/My Drive/GoogleColab/Titanic.csv\")\n",
        "titanic.head(5)"
      ]
    },
    {
      "cell_type": "code",
      "execution_count": null,
      "metadata": {
        "colab": {
          "base_uri": "https://localhost:8080/"
        },
        "id": "X8xbapXCfVhS",
        "outputId": "1e80a15f-491f-4619-8771-2f497890df22"
      },
      "outputs": [],
      "source": [
        "!git clone https://github.com/wxs/keras-mnist-tutorial.git"
      ]
    },
    {
      "cell_type": "code",
      "execution_count": 24,
      "metadata": {
        "id": "NyYulvBLfvhL"
      },
      "outputs": [],
      "source": [
        "!mv keras-mnist-tutorial drive/MyDrive/GoogleColab/keras-mnist-tutorial"
      ]
    },
    {
      "cell_type": "code",
      "execution_count": 25,
      "metadata": {
        "id": "lhOrmQzxgo9R"
      },
      "outputs": [],
      "source": [
        "!pip install -q keras\n",
        "import keras"
      ]
    },
    {
      "cell_type": "code",
      "execution_count": null,
      "metadata": {
        "colab": {
          "base_uri": "https://localhost:8080/"
        },
        "id": "A_O7yXu6iAhB",
        "outputId": "498c864f-9147-4d47-ac6b-57c09074f002"
      },
      "outputs": [],
      "source": [
        "!pip3 install torch torchvision"
      ]
    },
    {
      "cell_type": "code",
      "execution_count": null,
      "metadata": {
        "colab": {
          "base_uri": "https://localhost:8080/"
        },
        "id": "sF2eFRwWif14",
        "outputId": "080b838d-855f-4e2c-c8ed-70205e1f168a"
      },
      "outputs": [],
      "source": [
        "!apt install libnvrtc8.0\n",
        "!pip install mxnet-cu80"
      ]
    },
    {
      "cell_type": "code",
      "execution_count": 28,
      "metadata": {
        "colab": {
          "base_uri": "https://localhost:8080/"
        },
        "id": "lsPz5lAEihfp",
        "outputId": "a4d15d99-67a4-42d8-fda5-68ba9d2e1b7e"
      },
      "outputs": [
        {
          "name": "stdout",
          "output_type": "stream",
          "text": [
            "\u001b[2K     \u001b[90m━━━━━━━━━━━━━━━━━━━━━━━━━━━━━━━━━━━━━━━━\u001b[0m \u001b[32m61.8/61.8 MB\u001b[0m \u001b[31m13.8 MB/s\u001b[0m eta \u001b[36m0:00:00\u001b[0m\n",
            "\u001b[?25h"
          ]
        }
      ],
      "source": [
        "!apt-get -qq install -y libsm6 libxext6 && pip install -q -U opencv-python\n",
        "import cv2"
      ]
    },
    {
      "cell_type": "code",
      "execution_count": 31,
      "metadata": {
        "id": "6bhHHhEDjqqD"
      },
      "outputs": [],
      "source": [
        "!apt-get -qq install -y graphviz && pip install -q pydot\n",
        "import pydot"
      ]
    },
    {
      "cell_type": "code",
      "execution_count": null,
      "metadata": {
        "colab": {
          "base_uri": "https://localhost:8080/"
        },
        "id": "rIb3tij9juhT",
        "outputId": "75e9fd46-f5b7-4114-8de7-5839f9382ac9"
      },
      "outputs": [],
      "source": [
        "!apt-get -qq install -y libarchive-dev && pip install -q -U libarchive\n",
        "import libarchive"
      ]
    },
    {
      "cell_type": "code",
      "execution_count": null,
      "metadata": {
        "colab": {
          "base_uri": "https://localhost:8080/"
        },
        "id": "JV93D6fvj9Aq",
        "outputId": "4b80570a-f258-46d0-d9c6-1ac994a4b23c"
      },
      "outputs": [],
      "source": [
        "from tensorflow.python.client import device_lib\n",
        "device_lib.list_local_devices()"
      ]
    },
    {
      "cell_type": "code",
      "execution_count": null,
      "metadata": {
        "colab": {
          "base_uri": "https://localhost:8080/"
        },
        "id": "nZQ2GGfGkF_6",
        "outputId": "186a6b15-4ea0-4bd5-ba87-0427db4e5604"
      },
      "outputs": [],
      "source": [
        "!cat /proc/meminfo"
      ]
    },
    {
      "cell_type": "code",
      "execution_count": null,
      "metadata": {
        "colab": {
          "base_uri": "https://localhost:8080/"
        },
        "id": "22F30UlBkLyG",
        "outputId": "d84c839c-cfb9-443c-f1b0-36e4f4413967"
      },
      "outputs": [],
      "source": [
        "!cat /proc/cpuinfo"
      ]
    },
    {
      "cell_type": "code",
      "execution_count": 36,
      "metadata": {
        "id": "qRKaHpKQkL4S"
      },
      "outputs": [],
      "source": [
        "import os\n",
        "os.chdir(\"drive/MyDrive/GoogleColab\")"
      ]
    },
    {
      "cell_type": "code",
      "execution_count": null,
      "metadata": {
        "colab": {
          "base_uri": "https://localhost:8080/"
        },
        "id": "cY0DM6dHkT8i",
        "outputId": "b96e3ac5-0511-41ae-eae3-0c09343f706e"
      },
      "outputs": [],
      "source": [
        "ls"
      ]
    }
  ],
  "metadata": {
    "accelerator": "GPU",
    "colab": {
      "provenance": []
    },
    "gpuClass": "standard",
    "kernelspec": {
      "display_name": "Python 3",
      "name": "python3"
    },
    "language_info": {
      "name": "python"
    }
  },
  "nbformat": 4,
  "nbformat_minor": 0
}
